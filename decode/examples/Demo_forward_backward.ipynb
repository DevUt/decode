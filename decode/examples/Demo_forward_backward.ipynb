{
 "cells": [
  {
   "cell_type": "code",
   "execution_count": null,
   "metadata": {},
   "outputs": [],
   "source": [
    "%pylab inline"
   ]
  },
  {
   "cell_type": "code",
   "execution_count": null,
   "metadata": {},
   "outputs": [],
   "source": [
    "import sys\n",
    "sys.path.append('../')"
   ]
  },
  {
   "cell_type": "code",
   "execution_count": null,
   "metadata": {},
   "outputs": [],
   "source": [
    "from mxnet import nd \n",
    "from FracTALResUNet.models.changedetection.mantis.mantis_dn import *"
   ]
  },
  {
   "cell_type": "code",
   "execution_count": null,
   "metadata": {},
   "outputs": [],
   "source": [
    "# D6nf32 example \n",
    "depth=6\n",
    "norm_type='GroupNorm'\n",
    "norm_groups=4\n",
    "ftdepth=5\n",
    "NClasses=2\n",
    "nfilters_init=32\n",
    "psp_depth=4\n",
    "nheads_start=4\n",
    "\n",
    "\n",
    "net = mantis_dn_cmtsk(nfilters_init=nfilters_init, NClasses=NClasses,depth=depth, ftdepth=ftdepth, psp_depth=psp_depth,norm_type=norm_type,norm_groups=norm_groups,nheads_start=nheads_start)\n",
    "net.initialize()"
   ]
  },
  {
   "cell_type": "code",
   "execution_count": null,
   "metadata": {},
   "outputs": [],
   "source": [
    "BatchSize = 4\n",
    "img_size=256\n",
    "NChannels = 3\n",
    "\n",
    "input_img_1 = nd.random.uniform(shape=[BatchSize, NChannels, img_size, img_size])\n",
    "input_img_2 = nd.random.uniform(shape=[BatchSize, NChannels, img_size, img_size])"
   ]
  },
  {
   "cell_type": "markdown",
   "metadata": {},
   "source": [
    "## Example of forward operation:\n"
   ]
  },
  {
   "cell_type": "code",
   "execution_count": null,
   "metadata": {},
   "outputs": [],
   "source": [
    "outs = net(input_img_1, input_img_2)"
   ]
  },
  {
   "cell_type": "code",
   "execution_count": null,
   "metadata": {},
   "outputs": [],
   "source": [
    "# outs is a list of outputs, segmentation, boundary, distance. \n",
    "# Each has shape BatchSize, NClasses, img_size, img_size\n",
    "for out in outs:\n",
    "    print (out.shape)"
   ]
  },
  {
   "cell_type": "markdown",
   "metadata": {},
   "source": [
    "### Example of performing backward with multitasking operation"
   ]
  },
  {
   "cell_type": "code",
   "execution_count": null,
   "metadata": {},
   "outputs": [],
   "source": [
    "labels_segm = nd.random.uniform(shape=[BatchSize, NClasses, img_size, img_size])\n",
    "labels_segm = labels_segm > 0.5\n",
    "\n",
    "labels_bound = nd.random.uniform(shape=[BatchSize, NClasses, img_size, img_size])\n",
    "labels_bound = labels_bound > 0.5\n",
    "\n",
    "labels_dist = nd.random.uniform(shape=[BatchSize, NClasses, img_size, img_size])\n",
    "\n",
    "\n",
    "labels = [labels_segm,labels_bound,labels_dist]\n",
    "labels = nd.concat(*labels,dim=1)"
   ]
  },
  {
   "cell_type": "code",
   "execution_count": null,
   "metadata": {},
   "outputs": [],
   "source": [
    "from mxnet import autograd\n",
    "from ceecnet.nn.loss.mtsk_loss import *"
   ]
  },
  {
   "cell_type": "code",
   "execution_count": null,
   "metadata": {},
   "outputs": [],
   "source": [
    "myMTSKL = mtsk_loss()"
   ]
  },
  {
   "cell_type": "code",
   "execution_count": null,
   "metadata": {},
   "outputs": [],
   "source": [
    "with autograd.record():\n",
    "    listOfPreds = net(input_img_1, input_img_2)\n",
    "    loss = myMTSKL.loss(listOfPreds,labels)\n",
    "    loss.backward()"
   ]
  },
  {
   "cell_type": "code",
   "execution_count": null,
   "metadata": {},
   "outputs": [],
   "source": [
    "loss.shape"
   ]
  },
  {
   "cell_type": "code",
   "execution_count": null,
   "metadata": {},
   "outputs": [],
   "source": [
    "loss"
   ]
  },
  {
   "cell_type": "code",
   "execution_count": null,
   "metadata": {},
   "outputs": [],
   "source": []
  }
 ],
 "metadata": {
  "kernelspec": {
   "display_name": "Python 3",
   "language": "python",
   "name": "python3"
  },
  "language_info": {
   "codemirror_mode": {
    "name": "ipython",
    "version": 3
   },
   "file_extension": ".py",
   "mimetype": "text/x-python",
   "name": "python",
   "nbconvert_exporter": "python",
   "pygments_lexer": "ipython3",
   "version": "3.10.6"
  }
 },
 "nbformat": 4,
 "nbformat_minor": 4
}
