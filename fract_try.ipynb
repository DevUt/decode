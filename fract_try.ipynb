{
 "cells": [
  {
   "cell_type": "code",
   "execution_count": 1,
   "metadata": {},
   "outputs": [],
   "source": [
    "import json\n",
    "\n",
    "import matplotlib.pyplot as plt\n",
    "import mxnet as mx\n",
    "from mxnet import gluon, nd\n",
    "from mxnet.gluon.model_zoo import vision\n",
    "from mxnet.gluon.data.vision import transforms\n",
    "import numpy as np\n",
    "%matplotlib inline"
   ]
  },
  {
   "cell_type": "code",
   "execution_count": 2,
   "metadata": {},
   "outputs": [
    {
     "name": "stdout",
     "output_type": "stream",
     "text": [
      "['/home/devut/Projects/decode', '/usr/lib/python310.zip', '/usr/lib/python3.10', '/usr/lib/python3.10/lib-dynload', '', '/home/devut/.local/lib/python3.10/site-packages', '/usr/local/lib/python3.10/dist-packages', '/usr/lib/python3/dist-packages', '/home/devute/Proects/decode/decode/']\n"
     ]
    }
   ],
   "source": [
    "import sys\n",
    "sys.path.append('/home/devute/Proects/decode/decode/')\n",
    "print(sys.path)\n",
    "from decode.FracTAL_ResUNet.models.semanticsegmentation.FracTAL_ResUNet import *"
   ]
  },
  {
   "cell_type": "code",
   "execution_count": 3,
   "metadata": {},
   "outputs": [
    {
     "name": "stdout",
     "output_type": "stream",
     "text": [
      "cpu\n"
     ]
    }
   ],
   "source": [
    "ctx = mx.gpu() if mx.context.num_gpus() else mx.cpu()\n",
    "print(ctx.device_type)"
   ]
  },
  {
   "cell_type": "code",
   "execution_count": 4,
   "metadata": {},
   "outputs": [
    {
     "name": "stdout",
     "output_type": "stream",
     "text": [
      "depth:= 0, nfilters: 32, nheads::8, widths::1\n",
      "depth:= 1, nfilters: 64, nheads::16, widths::1\n",
      "depth:= 2, nfilters: 128, nheads::32, widths::1\n",
      "depth:= 3, nfilters: 256, nheads::64, widths::1\n",
      "depth:= 4, nfilters: 512, nheads::128, widths::1\n",
      "depth:= 5, nfilters: 1024, nheads::256, widths::1\n",
      "depth:= 6, nfilters: 512, nheads::256, widths::1\n",
      "depth:= 7, nfilters: 256, nheads::128, widths::1\n",
      "depth:= 8, nfilters: 128, nheads::64, widths::1\n",
      "depth:= 9, nfilters: 64, nheads::32, widths::1\n",
      "depth:= 10, nfilters: 32, nheads::16, widths::1\n"
     ]
    }
   ],
   "source": [
    "depth=6\n",
    "norm_type='GroupNorm'\n",
    "norm_groups=4\n",
    "ftdepth=5\n",
    "NClasses=2\n",
    "nfilters_init=32\n",
    "psp_depth=4\n",
    "nheads_start=4\n",
    "\n",
    "net = FracTAL_ResUNet_cmtsk(nfilters_init=nfilters_init,depth=depth,NClasses=NClasses)\n",
    "net.hybridize()"
   ]
  },
  {
   "cell_type": "code",
   "execution_count": 5,
   "metadata": {},
   "outputs": [
    {
     "ename": "AssertionError",
     "evalue": "Failed loading Parameter 'fractal_resunet_cmtsk0_head_cmtsk_bc0_headsingle0_conv0_weight' from saved params: shape incompatible expected (2, 0, 1, 1) vs saved (1, 32, 1, 1)",
     "output_type": "error",
     "traceback": [
      "\u001b[0;31m---------------------------------------------------------------------------\u001b[0m",
      "\u001b[0;31mAssertionError\u001b[0m                            Traceback (most recent call last)",
      "Cell \u001b[0;32mIn[5], line 1\u001b[0m\n\u001b[0;32m----> 1\u001b[0m net\u001b[39m.\u001b[39;49mload_parameters(\u001b[39m\"\u001b[39;49m\u001b[39mindia_Airbus_SPOT_model.params\u001b[39;49m\u001b[39m\"\u001b[39;49m,ctx\u001b[39m=\u001b[39;49mctx)\n",
      "File \u001b[0;32m/usr/local/lib/python3.10/dist-packages/mxnet/gluon/block.py:557\u001b[0m, in \u001b[0;36mBlock.load_parameters\u001b[0;34m(self, filename, ctx, allow_missing, ignore_extra, cast_dtype, dtype_source)\u001b[0m\n\u001b[1;32m    552\u001b[0m     \u001b[39mraise\u001b[39;00m \u001b[39mValueError\u001b[39;00m(\n\u001b[1;32m    553\u001b[0m         \u001b[39m\"\u001b[39m\u001b[39mParameter \u001b[39m\u001b[39m'\u001b[39m\u001b[39m%s\u001b[39;00m\u001b[39m'\u001b[39m\u001b[39m loaded from file \u001b[39m\u001b[39m'\u001b[39m\u001b[39m%s\u001b[39;00m\u001b[39m'\u001b[39m\u001b[39m is not present in ParameterDict, \u001b[39m\u001b[39m\"\u001b[39m \\\n\u001b[1;32m    554\u001b[0m         \u001b[39m\"\u001b[39m\u001b[39mwhich contains parameters \u001b[39m\u001b[39m%s\u001b[39;00m\u001b[39m. Set ignore_extra=True to ignore. \u001b[39m\u001b[39m\"\u001b[39m\u001b[39m%\u001b[39m(\n\u001b[1;32m    555\u001b[0m             name, filename, _brief_print_list(\u001b[39mself\u001b[39m\u001b[39m.\u001b[39m_params\u001b[39m.\u001b[39mkeys())))\n\u001b[1;32m    556\u001b[0m \u001b[39mif\u001b[39;00m name \u001b[39min\u001b[39;00m params:\n\u001b[0;32m--> 557\u001b[0m     params[name]\u001b[39m.\u001b[39;49m_load_init(loaded[name], ctx, cast_dtype\u001b[39m=\u001b[39;49mcast_dtype, dtype_source\u001b[39m=\u001b[39;49mdtype_source)\n",
      "File \u001b[0;32m/usr/local/lib/python3.10/dist-packages/mxnet/gluon/parameter.py:278\u001b[0m, in \u001b[0;36mParameter._load_init\u001b[0;34m(self, data, ctx, cast_dtype, dtype_source)\u001b[0m\n\u001b[1;32m    276\u001b[0m     unknown_dim_size \u001b[39m=\u001b[39m \u001b[39m-\u001b[39m\u001b[39m1\u001b[39m \u001b[39mif\u001b[39;00m is_np_shape() \u001b[39melse\u001b[39;00m \u001b[39m0\u001b[39m\n\u001b[1;32m    277\u001b[0m     \u001b[39mfor\u001b[39;00m self_dim, data_dim \u001b[39min\u001b[39;00m \u001b[39mzip\u001b[39m(\u001b[39mself\u001b[39m\u001b[39m.\u001b[39mshape, data\u001b[39m.\u001b[39mshape):\n\u001b[0;32m--> 278\u001b[0m         \u001b[39massert\u001b[39;00m self_dim \u001b[39min\u001b[39;00m (unknown_dim_size, data_dim), \\\n\u001b[1;32m    279\u001b[0m             \u001b[39m\"\u001b[39m\u001b[39mFailed loading Parameter \u001b[39m\u001b[39m'\u001b[39m\u001b[39m%s\u001b[39;00m\u001b[39m'\u001b[39m\u001b[39m from saved params: \u001b[39m\u001b[39m\"\u001b[39m \\\n\u001b[1;32m    280\u001b[0m             \u001b[39m\"\u001b[39m\u001b[39mshape incompatible expected \u001b[39m\u001b[39m%s\u001b[39;00m\u001b[39m vs saved \u001b[39m\u001b[39m%s\u001b[39;00m\u001b[39m\"\u001b[39m\u001b[39m%\u001b[39m(\n\u001b[1;32m    281\u001b[0m                 \u001b[39mself\u001b[39m\u001b[39m.\u001b[39mname, \u001b[39mstr\u001b[39m(\u001b[39mself\u001b[39m\u001b[39m.\u001b[39mshape), \u001b[39mstr\u001b[39m(data\u001b[39m.\u001b[39mshape))\n\u001b[1;32m    282\u001b[0m     \u001b[39mself\u001b[39m\u001b[39m.\u001b[39mshape \u001b[39m=\u001b[39m \u001b[39mtuple\u001b[39m(i \u001b[39mif\u001b[39;00m i \u001b[39m!=\u001b[39m unknown_dim_size \u001b[39melse\u001b[39;00m j\n\u001b[1;32m    283\u001b[0m                        \u001b[39mfor\u001b[39;00m i, j \u001b[39min\u001b[39;00m \u001b[39mzip\u001b[39m(\u001b[39mself\u001b[39m\u001b[39m.\u001b[39mshape, data\u001b[39m.\u001b[39mshape))\n\u001b[1;32m    284\u001b[0m \u001b[39mif\u001b[39;00m \u001b[39mself\u001b[39m\u001b[39m.\u001b[39mdtype:\n",
      "\u001b[0;31mAssertionError\u001b[0m: Failed loading Parameter 'fractal_resunet_cmtsk0_head_cmtsk_bc0_headsingle0_conv0_weight' from saved params: shape incompatible expected (2, 0, 1, 1) vs saved (1, 32, 1, 1)"
     ]
    }
   ],
   "source": [
    "net.load_parameters(\"india_Airbus_SPOT_model.params\",ctx=ctx)"
   ]
  }
 ],
 "metadata": {
  "kernelspec": {
   "display_name": "Python 3",
   "language": "python",
   "name": "python3"
  },
  "language_info": {
   "codemirror_mode": {
    "name": "ipython",
    "version": 3
   },
   "file_extension": ".py",
   "mimetype": "text/x-python",
   "name": "python",
   "nbconvert_exporter": "python",
   "pygments_lexer": "ipython3",
   "version": "3.10.6"
  },
  "orig_nbformat": 4
 },
 "nbformat": 4,
 "nbformat_minor": 2
}
